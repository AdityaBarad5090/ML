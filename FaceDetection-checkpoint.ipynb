{
 "cells": [
  {
   "cell_type": "code",
   "execution_count": 26,
   "id": "405afda5-839a-4b59-be06-96a3ea22c9f5",
   "metadata": {},
   "outputs": [
    {
     "name": "stdout",
     "output_type": "stream",
     "text": [
      "[[ 29  55 130 130]\n",
      " [237  89  98  98]]\n"
     ]
    }
   ],
   "source": [
    "# Detect An face in Image With Harcascade\n",
    "\n",
    "import cv2\n",
    "\n",
    "face_cascade = cv2.CascadeClassifier('haarcascade_frontalface_default.xml')\n",
    "\n",
    "#read an image\n",
    "\n",
    "img = cv2.imread('face3.jpg')\n",
    "gray_scale = cv2.cvtColor(img ,cv2.COLOR_BGR2GRAY)\n",
    "\n",
    "faces = face_cascade.detectMultiScale(gray_scale,scaleFactor=1.1,minNeighbors=3)\n",
    "print(faces)\n",
    "\n",
    "for(x,y,w,h) in faces:\n",
    "    cv2.rectangle(img,(x,y),(x+w,y+h),(0,255,0),3)\n",
    "\n",
    "cv2.imshow(\"Face Detector\",img)\n",
    "cv2.waitKey()\n",
    "cv2.destroyAllWindows()"
   ]
  },
  {
   "cell_type": "code",
   "execution_count": 22,
   "id": "8caf490a-cfd9-4fb6-b42c-c467ecc7910f",
   "metadata": {},
   "outputs": [
    {
     "ename": "error",
     "evalue": "OpenCV(4.12.0) D:\\a\\opencv-python\\opencv-python\\opencv\\modules\\imgproc\\src\\color.cpp:199: error: (-215:Assertion failed) !_src.empty() in function 'cv::cvtColor'\n",
     "output_type": "error",
     "traceback": [
      "\u001b[1;31m---------------------------------------------------------------------------\u001b[0m",
      "\u001b[1;31merror\u001b[0m                                     Traceback (most recent call last)",
      "Cell \u001b[1;32mIn[22], line 20\u001b[0m\n\u001b[0;32m     16\u001b[0m     \u001b[38;5;28;01mif\u001b[39;00m \u001b[38;5;129;01mnot\u001b[39;00m ret:\n\u001b[0;32m     17\u001b[0m         \u001b[38;5;28;01mbreak\u001b[39;00m \u001b[38;5;66;03m#If camera is not working\u001b[39;00m\n\u001b[1;32m---> 20\u001b[0m gray_scale\u001b[38;5;241m=\u001b[39m(\u001b[43mcv2\u001b[49m\u001b[38;5;241;43m.\u001b[39;49m\u001b[43mcvtColor\u001b[49m\u001b[43m(\u001b[49m\u001b[43mframe\u001b[49m\u001b[43m,\u001b[49m\u001b[43mcv2\u001b[49m\u001b[38;5;241;43m.\u001b[39;49m\u001b[43mCOLOR_BGR2GRAY\u001b[49m\u001b[43m)\u001b[49m) \u001b[38;5;66;03m#Haar cascade works on singel color channel.\u001b[39;00m\n\u001b[0;32m     22\u001b[0m  \u001b[38;5;66;03m#Detect faces\u001b[39;00m\n\u001b[0;32m     23\u001b[0m faces\u001b[38;5;241m=\u001b[39mface_cascade\u001b[38;5;241m.\u001b[39mdetectMultiScale(gray_scale,scaleFactor\u001b[38;5;241m=\u001b[39m\u001b[38;5;241m1.1\u001b[39m,minNeighbors\u001b[38;5;241m=\u001b[39m\u001b[38;5;241m4\u001b[39m)\n",
      "\u001b[1;31merror\u001b[0m: OpenCV(4.12.0) D:\\a\\opencv-python\\opencv-python\\opencv\\modules\\imgproc\\src\\color.cpp:199: error: (-215:Assertion failed) !_src.empty() in function 'cv::cvtColor'\n"
     ]
    }
   ],
   "source": [
    "#Object detection from the camera (live)\n",
    "\n",
    "\n",
    "import cv2\n",
    "\n",
    "face_cascade=cv2.CascadeClassifier('haarcascade_frontalface_default.xml')\n",
    "\n",
    "#Open the camera \n",
    "cap=cv2.VideoCapture(0)\n",
    "\n",
    "#Capture the footage from the camera\n",
    "\n",
    "while True:\n",
    "    #Capture frame by fram\n",
    "    ret,frame=cap.read()\n",
    "    if not ret:\n",
    "        break #If camera is not working\n",
    "    \n",
    "\n",
    "gray_scale=(cv2.cvtColor(frame,cv2.COLOR_BGR2GRAY)) #Haar cascade works on singel color channel.\n",
    "    \n",
    " #Detect faces\n",
    "faces=face_cascade.detectMultiScale(gray_scale,scaleFactor=1.1,minNeighbors=4)\n",
    "print(faces)\n",
    "    \n",
    "#Draw rectangles around the faces\n",
    "for(x,y,w,h) in faces:\n",
    "        cv2.rectangle(frame,(x,y),(x+w,y+h),(0,255,0),3)\n",
    "    \n",
    "cv2.imshow('Face Detector from the camera',frame)\n",
    "    \n",
    "#Close the camera by pressing the Esc\n",
    "if cv2.waitKey(1)==27:\n",
    "        break\n",
    "\n",
    "cv2.destroyAllWindows()\n",
    "\n"
   ]
  },
  {
   "cell_type": "code",
   "execution_count": 7,
   "id": "be43b36f-4557-42ae-812b-d45c41aec168",
   "metadata": {},
   "outputs": [
    {
     "name": "stdout",
     "output_type": "stream",
     "text": [
      "End of video or cannot read the frame.\n"
     ]
    }
   ],
   "source": [
    "import cv2\n",
    "\n",
    "# Load the Haar cascade face detector\n",
    "face_cascade = cv2.CascadeClassifier(cv2.data.haarcascades + 'haarcascade_frontalface_default.xml')\n",
    "\n",
    "# Load video file instead of webcam\n",
    "video_path = 'facevid2.mp4'\n",
    "cap = cv2.VideoCapture(video_path)\n",
    "\n",
    "# Check if video opened successfully\n",
    "if not cap.isOpened():\n",
    "    print(\"Error: Could not open video file.\")\n",
    "    exit()\n",
    "\n",
    "while True:\n",
    "    ret, frame = cap.read()\n",
    "    if not ret:\n",
    "        print(\"End of video or cannot read the frame.\")\n",
    "        break\n",
    "\n",
    "# Convert frame to grayscale\n",
    "    gray = cv2.cvtColor(frame, cv2.COLOR_BGR2GRAY)\n",
    "    \n",
    "    # Detect faces\n",
    "    faces = face_cascade.detectMultiScale(gray, scaleFactor=1.1, minNeighbors=20)\n",
    "    \n",
    "    # Draw rectangles around detected faces\n",
    "    for (x, y, w, h) in faces:\n",
    "        cv2.rectangle(frame, (x, y), (x+w, y+h), (0, 255, 0), 2)\n",
    "    \n",
    "    # Display the result\n",
    "        cv2.imshow('Face Detection from Video', frame)\n",
    "    \n",
    "    # Press 'q' to quit\n",
    "    if cv2.waitKey(25) & 0xFF == 27:\n",
    "        break\n",
    "\n",
    "# Release video and close windows\n",
    "cap.release()\n",
    "cv2.destroyAllWindows()"
   ]
  },
  {
   "cell_type": "code",
   "execution_count": null,
   "id": "4ee7de8e-afe6-44c7-b3e1-9d746aa91bae",
   "metadata": {},
   "outputs": [],
   "source": []
  },
  {
   "cell_type": "code",
   "execution_count": null,
   "id": "da5a9cad-e90f-4a5f-9dc5-cf8d15be196d",
   "metadata": {},
   "outputs": [],
   "source": []
  }
 ],
 "metadata": {
  "kernelspec": {
   "display_name": "Python 3 (ipykernel)",
   "language": "python",
   "name": "python3"
  },
  "language_info": {
   "codemirror_mode": {
    "name": "ipython",
    "version": 3
   },
   "file_extension": ".py",
   "mimetype": "text/x-python",
   "name": "python",
   "nbconvert_exporter": "python",
   "pygments_lexer": "ipython3",
   "version": "3.10.2"
  }
 },
 "nbformat": 4,
 "nbformat_minor": 5
}
