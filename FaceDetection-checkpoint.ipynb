{
 "cells": [
  {
   "cell_type": "code",
   "execution_count": 11,
   "id": "405afda5-839a-4b59-be06-96a3ea22c9f5",
   "metadata": {},
   "outputs": [
    {
     "name": "stdout",
     "output_type": "stream",
     "text": [
      "[[ 84 240  83  83]\n",
      " [ 53 332  91  91]\n",
      " [ 29  55 130 130]\n",
      " [237  89  98  98]]\n"
     ]
    }
   ],
   "source": [
    "# Detect An face in Image With Harcascade\n",
    "\n",
    "import cv2\n",
    "\n",
    "face_cascade = cv2.CascadeClassifier('haarcascade_frontalface_default.xml')\n",
    "\n",
    "#read an image\n",
    "\n",
    "img = cv2.imread('face3.jpg')\n",
    "gray_scale = cv2.cvtColor(img ,cv2.COLOR_BGR2GRAY)\n",
    "\n",
    "faces = face_cascade.detectMultiScale(gray_scale,scaleFactor=1.1,minNeighbors=3//2)\n",
    "print(faces)\n",
    "\n",
    "for(x,y,w,h) in faces:\n",
    "    cv2.rectangle(img,(x,y),(x+w,y+h),(0,255,0),3)\n",
    "\n",
    "cv2.imshow(\"Face Detector\",img)\n",
    "cv2.waitKey()\n",
    "cv2.destroyAllWindows()"
   ]
  },
  {
   "cell_type": "code",
   "execution_count": 20,
   "id": "8caf490a-cfd9-4fb6-b42c-c467ecc7910f",
   "metadata": {},
   "outputs": [],
   "source": [
    "#Object detection from the camera (live)\n",
    "\n",
    "\n",
    "import cv2\n",
    "\n",
    "face_cascade=cv2.CascadeClassifier('haarcascade_frontalface_default.xml')\n",
    "\n",
    "#Open the camera \n",
    "cap=cv2.VideoCapture(0)\n",
    "\n",
    "#Capture the footage from the camera\n",
    "\n",
    "while True:\n",
    "    #Capture frame by fram\n",
    "    ret,frame=cap.read()\n",
    "    if not ret:\n",
    "        break #If camera is not working\n",
    "    \n",
    "\n",
    "    gray_scale=(cv2.cvtColor(frame,cv2.COLOR_BGR2GRAY)) #Haar cascade works on singel color channel.\n",
    "    \n",
    "    #Detect faces\n",
    "    faces=face_cascade.detectMultiScale(gray_scale,scaleFactor=1.1,minNeighbors=4)\n",
    "    print(faces)\n",
    "    \n",
    "    #Draw rectangles around the faces\n",
    "    for(x,y,w,h) in faces:\n",
    "        cv2.rectangle(frame,(x,y),(x+w,y+h),(0,255,0),3)\n",
    "    \n",
    "    cv2.imshow('Face Detector from the camera',frame)\n",
    "    \n",
    "    #Close the camera by pressing the Esc\n",
    "    if cv2.waitKey(1)==27:\n",
    "        break\n",
    "\n",
    "cv2.destroyAllWindows()\n",
    "\n"
   ]
  },
  {
   "cell_type": "code",
   "execution_count": null,
   "id": "be43b36f-4557-42ae-812b-d45c41aec168",
   "metadata": {},
   "outputs": [],
   "source": []
  }
 ],
 "metadata": {
  "kernelspec": {
   "display_name": "Python 3 (ipykernel)",
   "language": "python",
   "name": "python3"
  },
  "language_info": {
   "codemirror_mode": {
    "name": "ipython",
    "version": 3
   },
   "file_extension": ".py",
   "mimetype": "text/x-python",
   "name": "python",
   "nbconvert_exporter": "python",
   "pygments_lexer": "ipython3",
   "version": "3.10.2"
  }
 },
 "nbformat": 4,
 "nbformat_minor": 5
}
