{
 "cells": [
  {
   "cell_type": "code",
   "execution_count": 1,
   "id": "3f9a28d9-10f3-459f-9e44-efca0217ef62",
   "metadata": {},
   "outputs": [
    {
     "name": "stderr",
     "output_type": "stream",
     "text": [
      "[nltk_data] Downloading package punkt_tab to\n",
      "[nltk_data]     C:\\Users\\atmiya\\AppData\\Roaming\\nltk_data...\n",
      "[nltk_data]   Unzipping tokenizers\\punkt_tab.zip.\n"
     ]
    },
    {
     "data": {
      "text/plain": [
       "True"
      ]
     },
     "execution_count": 1,
     "metadata": {},
     "output_type": "execute_result"
    }
   ],
   "source": [
    "#Tokenization\n",
    "import nltk\n",
    "nltk.download('punkt_tab')\n"
   ]
  },
  {
   "cell_type": "code",
   "execution_count": 5,
   "id": "60852684-c79c-4978-b8ef-015022c06156",
   "metadata": {},
   "outputs": [
    {
     "name": "stdout",
     "output_type": "stream",
     "text": [
      "Sent Tokenize: [\"Hello I'm a Aditya.\", 'Study in Atmiya']\n",
      "Sent Tokenize: [\"Hello i'am a Aditya.Study in Atmiya\"]\n"
     ]
    }
   ],
   "source": [
    "#Sentance Tokenization\n",
    "from nltk.tokenize import sent_tokenize\n",
    "\n",
    "text=\"Hello I'm a Aditya. Study in Atmiya\"\n",
    "text1=\"Hello i'am a Aditya.Study in Atmiya\"\n",
    "\n",
    "text_sent=sent_tokenize(text)\n",
    "text_sent1=sent_tokenize(text1)\n",
    "\n",
    "print('Sent Tokenize:',text_sent)\n",
    "print('Sent Tokenize:',text_sent1)"
   ]
  },
  {
   "cell_type": "code",
   "execution_count": 7,
   "id": "af800f01-255b-41fd-a533-e72d7e17f27f",
   "metadata": {},
   "outputs": [
    {
     "name": "stdout",
     "output_type": "stream",
     "text": [
      "Word Tokenize: ['Hello', 'I', \"'m\", 'a', 'Aditya', '.', 'Study', 'in', 'Atmiya']\n",
      "Word Tokenize: ['Hello', \"I'am\", 'a', 'Aditya.Study', 'in', 'Atmiya']\n"
     ]
    }
   ],
   "source": [
    "#Word Tokenization\n",
    "from nltk.tokenize import word_tokenize\n",
    "\n",
    "text=\"Hello I'm a Aditya. Study in Atmiya\"\n",
    "text1=\"Hello I'am a Aditya.Study in Atmiya\"\n",
    "\n",
    "text_sent=word_tokenize(text)\n",
    "text_sent1=word_tokenize(text1)\n",
    "\n",
    "print('Word Tokenize:',text_sent)\n",
    "print('Word Tokenize:',text_sent1)"
   ]
  },
  {
   "cell_type": "code",
   "execution_count": 8,
   "id": "98daae6d-d93a-45bc-9984-dd1a992fc84e",
   "metadata": {},
   "outputs": [
    {
     "name": "stdout",
     "output_type": "stream",
     "text": [
      "Word Tokenize: ['Hello', 'I', \"'\", 'm', 'a', 'Aditya', '.', 'Study', 'in', 'Atmiya']\n",
      "Word Tokenize: ['Hello', 'I', \"'\", 'am', 'a', 'Aditya', '.', 'Study', 'in', 'Atmiya']\n"
     ]
    }
   ],
   "source": [
    "#Word Punct Tokenization\n",
    "from nltk.tokenize import wordpunct_tokenize\n",
    "\n",
    "text=\"Hello I'm a Aditya. Study in Atmiya\"\n",
    "text1=\"Hello I'am a Aditya.Study in Atmiya\"\n",
    "\n",
    "text_sent=wordpunct_tokenize(text)\n",
    "text_sent1=wordpunct_tokenize(text1)\n",
    "\n",
    "print('Word Tokenize:',text_sent)\n",
    "print('Word Tokenize:',text_sent1)"
   ]
  },
  {
   "cell_type": "code",
   "execution_count": 10,
   "id": "aca3ba82-62f9-422e-956a-0c19e259666a",
   "metadata": {},
   "outputs": [
    {
     "name": "stdout",
     "output_type": "stream",
     "text": [
      "Porter Stemmer\n",
      "Studies ---> studi\n",
      "Happiness ---> happi\n",
      "Playing ---> play\n",
      "Teaching ---> teach\n",
      "Better ---> better\n",
      "--------------------\n",
      "Snowball Stemmer\n",
      "Studies ---> studi\n",
      "Happiness ---> happi\n",
      "Playing ---> play\n",
      "Teaching ---> teach\n",
      "Better ---> better\n",
      "--------------------\n",
      "Lancaster Stemmer\n",
      "Studies ---> study\n",
      "Happiness ---> happy\n",
      "Playing ---> play\n",
      "Teaching ---> teach\n",
      "Better ---> bet\n"
     ]
    }
   ],
   "source": [
    "#Stemming \n",
    "from nltk.stem import SnowballStemmer , PorterStemmer , LancasterStemmer\n",
    "\n",
    "porter=PorterStemmer()\n",
    "snowball=SnowballStemmer('english')\n",
    "lancaster=LancasterStemmer()\n",
    "\n",
    "word=['Studies','Happiness','Playing','Teaching','Better']\n",
    "\n",
    "print('Porter Stemmer')\n",
    "for w in word:\n",
    "    print(w,'--->',porter.stem(w))\n",
    "\n",
    "print('--------------------')\n",
    "\n",
    "print('Snowball Stemmer')\n",
    "for w in word:\n",
    "    print(w,'--->',snowball.stem(w))\n",
    "\n",
    "print('--------------------')\n",
    "\n",
    "print('Lancaster Stemmer')\n",
    "for w in word:\n",
    "    print(w,'--->',lancaster.stem(w))"
   ]
  },
  {
   "cell_type": "code",
   "execution_count": 11,
   "id": "b0b75b66-5688-40f1-bd0f-8f1bdacf2977",
   "metadata": {},
   "outputs": [
    {
     "data": {
      "application/vnd.jupyter.widget-view+json": {
       "model_id": "b7c7348febcc4129bdbc7f8d20e4307e",
       "version_major": 2,
       "version_minor": 0
      },
      "text/plain": [
       "Downloading https://raw.githubusercontent.com/stanfordnlp/stanza-resources/main/resources_1.10.0.json:   0%|  …"
      ]
     },
     "metadata": {},
     "output_type": "display_data"
    },
    {
     "name": "stderr",
     "output_type": "stream",
     "text": [
      "2025-09-04 08:54:03 INFO: Downloaded file to C:\\Users\\atmiya\\stanza_resources\\resources.json\n",
      "2025-09-04 08:54:03 INFO: Downloading default packages for language: en (English) ...\n"
     ]
    },
    {
     "data": {
      "application/vnd.jupyter.widget-view+json": {
       "model_id": "f4d227553ab641aeabf64cc6a7e67a0d",
       "version_major": 2,
       "version_minor": 0
      },
      "text/plain": [
       "Downloading https://huggingface.co/stanfordnlp/stanza-en/resolve/v1.10.0/models/default.zip:   0%|          | …"
      ]
     },
     "metadata": {},
     "output_type": "display_data"
    },
    {
     "name": "stderr",
     "output_type": "stream",
     "text": [
      "2025-09-04 08:54:22 INFO: Downloaded file to C:\\Users\\atmiya\\stanza_resources\\en\\default.zip\n",
      "2025-09-04 08:54:25 INFO: Finished downloading models and saved to C:\\Users\\atmiya\\stanza_resources\n"
     ]
    }
   ],
   "source": [
    "#Lemmatization\n",
    "import stanza\n",
    "stanza.download('en')"
   ]
  },
  {
   "cell_type": "code",
   "execution_count": 18,
   "id": "612c0de3-df2c-43a4-ad9e-bee06471c6ab",
   "metadata": {},
   "outputs": [
    {
     "name": "stderr",
     "output_type": "stream",
     "text": [
      "2025-09-04 09:01:51 INFO: Checking for updates to resources.json in case models have been updated.  Note: this behavior can be turned off with download_method=None or download_method=DownloadMethod.REUSE_RESOURCES\n"
     ]
    },
    {
     "data": {
      "application/vnd.jupyter.widget-view+json": {
       "model_id": "ce68dc938af347f9bb58f10623ec8aa1",
       "version_major": 2,
       "version_minor": 0
      },
      "text/plain": [
       "Downloading https://raw.githubusercontent.com/stanfordnlp/stanza-resources/main/resources_1.10.0.json:   0%|  …"
      ]
     },
     "metadata": {},
     "output_type": "display_data"
    },
    {
     "name": "stderr",
     "output_type": "stream",
     "text": [
      "2025-09-04 09:01:51 INFO: Downloaded file to C:\\Users\\atmiya\\stanza_resources\\resources.json\n",
      "2025-09-04 09:01:52 INFO: Loading these models for language: en (English):\n",
      "=================================\n",
      "| Processor | Package           |\n",
      "---------------------------------\n",
      "| tokenize  | combined          |\n",
      "| mwt       | combined          |\n",
      "| pos       | combined_charlm   |\n",
      "| lemma     | combined_nocharlm |\n",
      "=================================\n",
      "\n",
      "2025-09-04 09:01:52 INFO: Using device: cpu\n",
      "2025-09-04 09:01:52 INFO: Loading: tokenize\n",
      "2025-09-04 09:01:52 INFO: Loading: mwt\n",
      "2025-09-04 09:01:52 INFO: Loading: pos\n",
      "2025-09-04 09:01:53 INFO: Loading: lemma\n",
      "2025-09-04 09:01:54 INFO: Done loading processors!\n"
     ]
    },
    {
     "name": "stdout",
     "output_type": "stream",
     "text": [
      "their ----> their\n",
      "are ----> be\n",
      "sitting ----> sit\n",
      "on ----> on\n",
      "chairs ----> chair\n",
      "and ----> and\n",
      "doing ----> do\n",
      "an ----> a\n",
      "handshake ----> handshake\n"
     ]
    }
   ],
   "source": [
    "import stanza\n",
    "\n",
    "nlp=stanza.Pipeline(lang='en' , processors='tokenize,mwt,pos,lemma')\n",
    "\n",
    "text=\"their are sitting on chairs and doing an handshake\"\n",
    "doc=nlp(text)\n",
    "for sentence in doc.sentences:\n",
    "    for word in sentence.words:\n",
    "        print(word.text,'---->',word.lemma)"
   ]
  },
  {
   "cell_type": "code",
   "execution_count": null,
   "id": "ffb27081-2f40-4391-9d3b-31462542668c",
   "metadata": {},
   "outputs": [],
   "source": []
  }
 ],
 "metadata": {
  "kernelspec": {
   "display_name": "Python 3 (ipykernel)",
   "language": "python",
   "name": "python3"
  },
  "language_info": {
   "codemirror_mode": {
    "name": "ipython",
    "version": 3
   },
   "file_extension": ".py",
   "mimetype": "text/x-python",
   "name": "python",
   "nbconvert_exporter": "python",
   "pygments_lexer": "ipython3",
   "version": "3.10.2"
  }
 },
 "nbformat": 4,
 "nbformat_minor": 5
}
